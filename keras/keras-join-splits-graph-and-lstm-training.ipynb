{
 "cells": [
  {
   "cell_type": "code",
   "execution_count": null,
   "metadata": {},
   "outputs": [],
   "source": [
    "import pandas as pd\n",
    "import os\n",
    "train = pd.read_csv('data-full/train.csv')\n",
    "test = pd.read_csv('data-full/test.csv')\n",
    "\n",
    "train.Description.fillna(\"None\", inplace=True)\n",
    "test.Description.fillna(\"None\", inplace=True)\n",
    "\n"
   ]
  },
  {
   "cell_type": "code",
   "execution_count": null,
   "metadata": {},
   "outputs": [],
   "source": [
    "import gensim\n",
    "from gensim.utils import simple_preprocess\n",
    "from gensim.parsing.preprocessing import STOPWORDS\n",
    "\n",
    "import numpy as np\n",
    "np.random.seed(2018)\n",
    "\n",
    "\n",
    "def preprocess(text):\n",
    "    result = []\n",
    "    for token in gensim.utils.simple_preprocess(text):\n",
    "        if token not in gensim.parsing.preprocessing.STOPWORDS and len(token) > 3:\n",
    "#             result.append(lemmatize_stemming(token))\n",
    "            result.append(token)\n",
    "    return result\n"
   ]
  },
  {
   "cell_type": "code",
   "execution_count": null,
   "metadata": {},
   "outputs": [],
   "source": [
    "doc_sample = train.Description[0]\n",
    "\n",
    "print('original document: ')\n",
    "words = []\n",
    "for word in doc_sample.split(' '):\n",
    "    words.append(word)\n",
    "print(words)\n",
    "print('\\n\\n tokenized and lemmatized document: ')\n",
    "print(preprocess(doc_sample))"
   ]
  },
  {
   "cell_type": "code",
   "execution_count": null,
   "metadata": {},
   "outputs": [],
   "source": [
    "train.Description.fillna(\"None\", inplace=True)\n",
    "train['desc'] = train.Description.map(preprocess)\n",
    "test.Description.fillna(\"None\", inplace=True)\n",
    "test['desc'] = test.Description.map(preprocess)"
   ]
  },
  {
   "cell_type": "code",
   "execution_count": null,
   "metadata": {},
   "outputs": [],
   "source": [
    "import warnings\n",
    "warnings.filterwarnings(\"ignore\")\n",
    "import seaborn as sns\n",
    "len_stat = train.desc.apply(len)\n",
    "sns.distplot(len_stat)"
   ]
  },
  {
   "cell_type": "code",
   "execution_count": null,
   "metadata": {},
   "outputs": [],
   "source": [
    "len_stat = test.desc.apply(len)\n",
    "sns.distplot(len_stat)"
   ]
  },
  {
   "cell_type": "code",
   "execution_count": null,
   "metadata": {},
   "outputs": [],
   "source": [
    "text_data = pd.concat([train.desc, test.desc], axis=0)\n"
   ]
  },
  {
   "cell_type": "code",
   "execution_count": 1,
   "metadata": {},
   "outputs": [
    {
     "name": "stderr",
     "output_type": "stream",
     "text": [
      "Using TensorFlow backend.\n"
     ]
    }
   ],
   "source": [
    "# Keras\n",
    "from keras.preprocessing.text import Tokenizer\n",
    "from keras.preprocessing.sequence import pad_sequences\n",
    "from keras.models import Sequential\n",
    "from keras.layers import Dense, Flatten, LSTM, Conv1D, MaxPooling1D, Dropout, Activation\n",
    "from keras.layers import Dropout, SpatialDropout1D\n",
    "from keras.layers.embeddings import Embedding\n",
    "from keras import Input\n",
    "from keras import Model\n"
   ]
  },
  {
   "cell_type": "code",
   "execution_count": 2,
   "metadata": {},
   "outputs": [
    {
     "name": "stdout",
     "output_type": "stream",
     "text": [
      "_________________________________________________________________\n",
      "Layer (type)                 Output Shape              Param #   \n",
      "=================================================================\n",
      "input_1 (InputLayer)         (None, 486)               0         \n",
      "_________________________________________________________________\n",
      "embedding_1 (Embedding)      (None, 486, 60)           600000    \n",
      "_________________________________________________________________\n",
      "spatial_dropout1d_1 (Spatial (None, 486, 60)           0         \n",
      "_________________________________________________________________\n",
      "lstm_1 (LSTM)                (None, 486, 30)           10920     \n",
      "_________________________________________________________________\n",
      "lstm_2 (LSTM)                (None, 30)                7320      \n",
      "_________________________________________________________________\n",
      "dense_1 (Dense)              (None, 30)                930       \n",
      "=================================================================\n",
      "Total params: 619,170\n",
      "Trainable params: 619,170\n",
      "Non-trainable params: 0\n",
      "_________________________________________________________________\n"
     ]
    }
   ],
   "source": [
    "## model1\n",
    "\n",
    "model1_inputs = Input(shape=(486,))\n",
    "model1_outputs = Input(shape=(30,))\n",
    "net1 = Embedding(10000, 60, input_length=486)(model1_inputs)\n",
    "net1 = SpatialDropout1D(0.2)(net1)\n",
    "net1 = LSTM(30, dropout=0.2, recurrent_dropout=0.2, return_sequences=True)(net1)\n",
    "net1 = LSTM(30, dropout=0.2, recurrent_dropout=0.2, return_sequences=False)(net1)\n",
    "net1 = Dense(30, activation='relu')(net1)\n",
    "model1_outputs = net1\n",
    "\n",
    "model1 = Model(inputs=model1_inputs, outputs = model1_outputs, name='model1')\n",
    "\n",
    "## Fit the model\n",
    "model1.summary()"
   ]
  },
  {
   "cell_type": "code",
   "execution_count": 3,
   "metadata": {},
   "outputs": [
    {
     "name": "stdout",
     "output_type": "stream",
     "text": [
      "_________________________________________________________________\n",
      "Layer (type)                 Output Shape              Param #   \n",
      "=================================================================\n",
      "input_3 (InputLayer)         (None, 30)                0         \n",
      "_________________________________________________________________\n",
      "dropout_1 (Dropout)          (None, 30)                0         \n",
      "_________________________________________________________________\n",
      "dense_2 (Dense)              (None, 5)                 155       \n",
      "=================================================================\n",
      "Total params: 155\n",
      "Trainable params: 155\n",
      "Non-trainable params: 0\n",
      "_________________________________________________________________\n"
     ]
    }
   ],
   "source": [
    "# model2\n",
    "model2_inputs = Input(shape=(30,))\n",
    "model2_outputs = Input(shape=(30,))\n",
    "\n",
    "net2 = Dropout(0.2)(model2_inputs)\n",
    "net2 = Dense(5, activation='softmax')(net2)\n",
    "model2_outputs = net2\n",
    "\n",
    "model2 = Model(inputs=model2_inputs, outputs = model2_outputs, name='model2')\n",
    "\n",
    "## Fit the model\n",
    "model2.summary()"
   ]
  },
  {
   "cell_type": "code",
   "execution_count": 4,
   "metadata": {},
   "outputs": [
    {
     "name": "stdout",
     "output_type": "stream",
     "text": [
      "_________________________________________________________________\n",
      "Layer (type)                 Output Shape              Param #   \n",
      "=================================================================\n",
      "input_5 (InputLayer)         (None, 486)               0         \n",
      "_________________________________________________________________\n",
      "model1 (Model)               (None, 30)                619170    \n",
      "_________________________________________________________________\n",
      "model2 (Model)               (None, 5)                 155       \n",
      "=================================================================\n",
      "Total params: 619,325\n",
      "Trainable params: 619,325\n",
      "Non-trainable params: 0\n",
      "_________________________________________________________________\n"
     ]
    }
   ],
   "source": [
    "# model-full\n",
    "model_full_inputs = Input(shape=(486,))\n",
    "model_full_outputs = Input(shape=(5,))\n",
    "\n",
    "first = model1(model_full_inputs)\n",
    "second = model2(first)\n",
    "model_full_outputs = second\n",
    "\n",
    "model_full = Model(inputs=model_full_inputs, outputs = model_full_outputs, name='model_full')\n",
    "# model_full.compile(loss='categorical_crossentropy', optimizer='rmsprop', metrics=['accuracy'])\n",
    "\n",
    "model_full.summary()"
   ]
  },
  {
   "cell_type": "code",
   "execution_count": null,
   "metadata": {},
   "outputs": [],
   "source": [
    "vocabulary_size = 10000\n",
    "tokenizer = Tokenizer(num_words= vocabulary_size)\n",
    "tokenizer.fit_on_texts(text_data)\n",
    "\n",
    "sequences = tokenizer.texts_to_sequences(text_data)\n",
    "data = pad_sequences(sequences, maxlen=486)\n",
    "print(data.shape)"
   ]
  },
  {
   "cell_type": "code",
   "execution_count": null,
   "metadata": {},
   "outputs": [],
   "source": [
    "training_text = data[:14993]\n",
    "testing_text = data[14993:]"
   ]
  },
  {
   "cell_type": "code",
   "execution_count": null,
   "metadata": {},
   "outputs": [],
   "source": [
    "from sklearn.model_selection import train_test_split\n",
    "X_train, X_val, y_train , y_val = train_test_split(training_text, target, \n",
    "                                                    stratify=target,\n",
    "                                                    test_size=0.2)\n",
    "print(X_train.shape, y_train.shape, X_val.shape, y_val.shape)"
   ]
  },
  {
   "cell_type": "code",
   "execution_count": null,
   "metadata": {},
   "outputs": [],
   "source": [
    "import tensorflow as tf\n",
    "y_train = tf.keras.utils.to_categorical(y_train,5)\n",
    "y_val = tf.keras.utils.to_categorical(y_val,5)\n",
    "y_train.shape, y_val.shape"
   ]
  },
  {
   "cell_type": "code",
   "execution_count": null,
   "metadata": {},
   "outputs": [],
   "source": [
    "from keras.callbacks import EarlyStopping, ModelCheckpoint\n",
    "earlystopper = EarlyStopping(patience=2, verbose=1)\n",
    "checkpointer = ModelCheckpoint('text_features.h5', verbose=1, \n",
    "                               save_best_only=True, \n",
    "                               mode='auto', period=2)\n",
    "\n",
    "model_full.compile(optimizer='adam', \n",
    "                  loss = 'categorical_crossentropy', \n",
    "                  metrics = ['accuracy'])\n",
    "\n",
    "history = model_full.fit( X_train, y_train,\n",
    "                          batch_size=32,\n",
    "                          epochs = 50,\n",
    "                          validation_data=(X_val, y_val),\n",
    "                          verbose = True,\n",
    "                          callbacks=[earlystopper,checkpointer])\n"
   ]
  },
  {
   "cell_type": "code",
   "execution_count": null,
   "metadata": {},
   "outputs": [],
   "source": []
  },
  {
   "cell_type": "code",
   "execution_count": null,
   "metadata": {},
   "outputs": [],
   "source": []
  },
  {
   "cell_type": "code",
   "execution_count": null,
   "metadata": {},
   "outputs": [],
   "source": []
  },
  {
   "cell_type": "code",
   "execution_count": null,
   "metadata": {},
   "outputs": [],
   "source": []
  },
  {
   "cell_type": "code",
   "execution_count": null,
   "metadata": {},
   "outputs": [],
   "source": []
  }
 ],
 "metadata": {
  "kernelspec": {
   "display_name": "Python 3",
   "language": "python",
   "name": "python3"
  },
  "language_info": {
   "codemirror_mode": {
    "name": "ipython",
    "version": 3
   },
   "file_extension": ".py",
   "mimetype": "text/x-python",
   "name": "python",
   "nbconvert_exporter": "python",
   "pygments_lexer": "ipython3",
   "version": "3.6.7"
  }
 },
 "nbformat": 4,
 "nbformat_minor": 2
}
